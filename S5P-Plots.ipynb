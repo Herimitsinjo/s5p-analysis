{
 "cells": [
  {
   "cell_type": "markdown",
   "metadata": {},
   "source": [
    "# Exploitation des données Sentinel-5P\n",
    "\n",
    "Données collectées et traitées avec l'outil [s5p-tools](https://github.com/bilelomrani1/s5p-tools).\n",
    "\n",
    "- *Zone de collecte :* France\n",
    "\n",
    "- *Période de collecte :* 30/04/2018 -- 09/07/2019"
   ]
  },
  {
   "cell_type": "code",
   "execution_count": 1,
   "metadata": {},
   "outputs": [
    {
     "data": {
      "text/plain": [
       "<xarray.core.options.set_options at 0x59e1d30>"
      ]
     },
     "execution_count": 1,
     "metadata": {},
     "output_type": "execute_result"
    }
   ],
   "source": [
    "import xarray as xr\n",
    "import numpy as np\n",
    "import pandas as pd\n",
    "from itertools import product, cycle\n",
    "\n",
    "# Ignore les warnings Runtime\n",
    "import warnings\n",
    "warnings.filterwarnings('ignore', category=RuntimeWarning)\n",
    "\n",
    "# Conserve les attributs lors des calculs\n",
    "xr.set_options(keep_attrs=True)"
   ]
  },
  {
   "cell_type": "markdown",
   "metadata": {},
   "source": [
    "## Visualisation des données\n",
    "\n",
    "Exploration et visualisation de la couche NO2."
   ]
  },
  {
   "cell_type": "code",
   "execution_count": 2,
   "metadata": {},
   "outputs": [
    {
     "data": {
      "text/plain": [
       "<xarray.Dataset>\n",
       "Dimensions:                                  (latitude: 1005, longitude: 1593, time: 431)\n",
       "Coordinates:\n",
       "  * latitude                                 (latitude) float64 41.3 ... 51.34\n",
       "  * longitude                                (longitude) float64 -5.818 ... 10.1\n",
       "  * time                                     (time) datetime64[ns] 2018-04-30 ... 2019-07-09\n",
       "Data variables:\n",
       "    sensor_altitude                          (time, latitude, longitude) float64 dask.array<shape=(431, 1005, 1593), chunksize=(100, 1005, 1593)>\n",
       "    solar_zenith_angle                       (time, latitude, longitude) float64 dask.array<shape=(431, 1005, 1593), chunksize=(100, 1005, 1593)>\n",
       "    solar_azimuth_angle                      (time, latitude, longitude) float64 dask.array<shape=(431, 1005, 1593), chunksize=(100, 1005, 1593)>\n",
       "    sensor_zenith_angle                      (time, latitude, longitude) float64 dask.array<shape=(431, 1005, 1593), chunksize=(100, 1005, 1593)>\n",
       "    sensor_azimuth_angle                     (time, latitude, longitude) float64 dask.array<shape=(431, 1005, 1593), chunksize=(100, 1005, 1593)>\n",
       "    tropospheric_NO2_column_number_density   (time, latitude, longitude) float64 dask.array<shape=(431, 1005, 1593), chunksize=(100, 1005, 1593)>\n",
       "    NO2_column_number_density                (time, latitude, longitude) float64 dask.array<shape=(431, 1005, 1593), chunksize=(100, 1005, 1593)>\n",
       "    stratospheric_NO2_column_number_density  (time, latitude, longitude) float64 dask.array<shape=(431, 1005, 1593), chunksize=(100, 1005, 1593)>\n",
       "    NO2_slant_column_number_density          (time, latitude, longitude) float64 dask.array<shape=(431, 1005, 1593), chunksize=(100, 1005, 1593)>\n",
       "    cloud_fraction                           (time, latitude, longitude) float64 dask.array<shape=(431, 1005, 1593), chunksize=(100, 1005, 1593)>\n",
       "    absorbing_aerosol_index                  (time, latitude, longitude) float64 dask.array<shape=(431, 1005, 1593), chunksize=(100, 1005, 1593)>\n",
       "    tropopause_pressure                      (time, latitude, longitude) float64 dask.array<shape=(431, 1005, 1593), chunksize=(100, 1005, 1593)>\n",
       "    count                                    (time) float64 dask.array<shape=(431,), chunksize=(100,)>"
      ]
     },
     "execution_count": 2,
     "metadata": {},
     "output_type": "execute_result"
    }
   ],
   "source": [
    "# Import de la base NO2\n",
    "DS = xr.open_dataset('R:/AirPollution/processed/processed__NO2___/NO2___30-4-2018__9-7-2019.nc', chunks={'time': 100})\n",
    "\n",
    "# Affichage de la base\n",
    "DS"
   ]
  },
  {
   "cell_type": "markdown",
   "metadata": {},
   "source": [
    "### Préliminaires\n",
    "\n",
    "Par défaut chaque entrée le long de la dimension `time` correspond à un produit. On peut rééchantilloner le dataset de façon à ce que les données soient rassemblées par jour. On rassemble et on moyenne donc les produits enregistrés le même jour."
   ]
  },
  {
   "cell_type": "code",
   "execution_count": 3,
   "metadata": {},
   "outputs": [],
   "source": [
    "DS = DS.resample(time='1D').mean(dim='time', skipna=None)"
   ]
  },
  {
   "cell_type": "markdown",
   "metadata": {},
   "source": [
    "Les données collectées s'étalent sur une période commencant le 30/04/2018 et terminant le 9/07/2019. Pour avoir des mois complet, on recoupe les données pour la période du 1/05/2018 au 30/06/2019."
   ]
  },
  {
   "cell_type": "code",
   "execution_count": 4,
   "metadata": {},
   "outputs": [],
   "source": [
    "DS = DS.sel(time=slice('2018-05-01', '2019-06-30'))"
   ]
  },
  {
   "cell_type": "markdown",
   "metadata": {},
   "source": [
    "On va tracer les cartes pour la couche `tropospheric NO2`."
   ]
  },
  {
   "cell_type": "code",
   "execution_count": 3,
   "metadata": {},
   "outputs": [],
   "source": [
    "# Variable à l'étude\n",
    "VARIABLE = 'tropospheric_NO2_column_number_density'"
   ]
  },
  {
   "cell_type": "markdown",
   "metadata": {},
   "source": [
    "On peut observer les méta-données associées à cette colonne. Ces métadonnées seront automatiquement réutilisées dans les graphes."
   ]
  },
  {
   "cell_type": "code",
   "execution_count": 4,
   "metadata": {},
   "outputs": [
    {
     "data": {
      "text/plain": [
       "OrderedDict()"
      ]
     },
     "execution_count": 4,
     "metadata": {},
     "output_type": "execute_result"
    }
   ],
   "source": [
    "DS[VARIABLE].attrs"
   ]
  },
  {
   "cell_type": "markdown",
   "metadata": {},
   "source": [
    "On reformate légèrement les métadonnées et on crée une méta-donnée `long_name` qui est utilisée dans les graphiques."
   ]
  },
  {
   "cell_type": "code",
   "execution_count": 5,
   "metadata": {},
   "outputs": [],
   "source": [
    "DS[VARIABLE].attrs['units'] = 'molec m$^{-2}$'\n",
    "DS[VARIABLE].attrs['long_name'] = 'Tropospheric vertical column of NO$_2$'\n",
    "\n",
    "LABEL = '{long_name}\\n [{unit}]'.format(long_name=DS[VARIABLE].attrs['long_name'],\n",
    "                                      unit=DS[VARIABLE].attrs['units'])"
   ]
  },
  {
   "cell_type": "markdown",
   "metadata": {},
   "source": [
    "On crée un dossier pour les exports."
   ]
  },
  {
   "cell_type": "code",
   "execution_count": 6,
   "metadata": {},
   "outputs": [],
   "source": [
    "# Dossier d'export des graphiques\n",
    "from os import makedirs\n",
    "folder_plots = 'plots'\n",
    "makedirs(folder_plots, exist_ok=True)\n",
    "\n",
    "# Format d'export pour les figures\n",
    "FORMAT_EXPORT = 'tiff'"
   ]
  },
  {
   "cell_type": "markdown",
   "metadata": {},
   "source": [
    "Quelques paramètres pour uniformiser les plots."
   ]
  },
  {
   "cell_type": "code",
   "execution_count": 7,
   "metadata": {},
   "outputs": [],
   "source": [
    "import matplotlib.pyplot as plt\n",
    "import matplotlib.colors as colors\n",
    "import matplotlib.dates as mdates\n",
    "import matplotlib.ticker as mticker\n",
    "import matplotlib.font_manager as fm\n",
    "from mpl_toolkits.axes_grid1.anchored_artists import AnchoredSizeBar\n",
    "import seaborn as sns;sns.set()\n",
    "import cartopy.crs as ccrs\n",
    "%matplotlib inline\n",
    "\n",
    "# Properties\n",
    "COLOR_PALETTE = plt.cm.RdYlGn_r\n",
    "PROJECTION = ccrs.Mercator()\n",
    "\n",
    "# Scalebar\n",
    "SCALEBAR_LENGTH = 100000   # in meters\n",
    "SCALEBAR_UNIT = 'km'\n",
    "NUMBER_METERS_PER_UNIT = 1000\n",
    "SCALEBAR_LOCATION = 'lower left'\n",
    "SCALEBAR_SEP = 3\n",
    "\n",
    "# Font sizes\n",
    "SMALL_SIZE = 6\n",
    "MEDIUM_SIZE = 9\n",
    "BIGGER_SIZE = 18\n",
    "\n",
    "plt.rc('font', size=SMALL_SIZE)          # controls default text sizes\n",
    "plt.rc('axes', titlesize=MEDIUM_SIZE)    # fontsize of the axes title\n",
    "plt.rc('axes', labelsize=MEDIUM_SIZE)    # fontsize of the x and y labels\n",
    "plt.rc('xtick', labelsize=MEDIUM_SIZE)   # fontsize of the tick labels\n",
    "plt.rc('ytick', labelsize=MEDIUM_SIZE)   # fontsize of the tick labels\n",
    "plt.rc('legend', fontsize=MEDIUM_SIZE)   # legend fontsize\n",
    "plt.rc('figure', titlesize=BIGGER_SIZE)  # fontsize of the figure title"
   ]
  },
  {
   "cell_type": "markdown",
   "metadata": {},
   "source": [
    "### Création de la carte globale annuelle\n",
    "\n",
    "On créé la carte nationale moyenne sur toutes les données collectées"
   ]
  },
  {
   "cell_type": "code",
   "execution_count": 8,
   "metadata": {
    "scrolled": true
   },
   "outputs": [
    {
     "data": {
      "image/png": "[encoded data removed]",
      "text/plain": [
       "<Figure size 456.501x288 with 2 Axes>"
      ]
     },
     "metadata": {
      "needs_background": "light"
     },
     "output_type": "display_data"
    }
   ],
   "source": [
    "FIGSIZE = 4\n",
    "\n",
    "# Moyenne temporelle\n",
    "data = DS.mean(dim='time')\n",
    "\n",
    "# Création du canevas\n",
    "fig = plt.figure(figsize=(FIGSIZE*data.dims['longitude'] / data.dims['latitude'], FIGSIZE))\n",
    "ax = plt.axes(projection=PROJECTION)\n",
    "ax.outline_patch.set_edgecolor('white')\n",
    "\n",
    "# Ajout du pcolormesh\n",
    "p = data[VARIABLE].plot(\n",
    "        ax=ax,\n",
    "        transform=ccrs.PlateCarree(),\n",
    "        cmap=COLOR_PALETTE,\n",
    "        norm=colors.LogNorm()\n",
    "    )\n",
    "\n",
    "# Add scale bar\n",
    "scalebar = AnchoredSizeBar(ax.transData,\n",
    "                           SCALEBAR_LENGTH, \n",
    "                           '{length} {unit}'.format(length=int(SCALEBAR_LENGTH/NUMBER_METERS_PER_UNIT), \n",
    "                                                    unit=SCALEBAR_UNIT),\n",
    "                           SCALEBAR_LOCATION, \n",
    "                           pad=0.1,\n",
    "                           fontproperties=fm.FontProperties(size=7),\n",
    "                           sep=SCALEBAR_SEP,\n",
    "                           color='black',\n",
    "                           label_top=True,\n",
    "                           frameon=False)\n",
    "ax.add_artist(scalebar)\n",
    "\n",
    "# Re-fit axis extent \n",
    "ax.set_extent([data.longitude.min(), data.longitude.max(), data.latitude.min(), data.latitude.max()],\n",
    "              ccrs.Geodetic())\n",
    "\n",
    "# Color bar\n",
    "p.colorbar.locator = mticker.AutoLocator()\n",
    "p.colorbar.formatter = mticker.ScalarFormatter(useMathText=True, useOffset=True)\n",
    "p.colorbar.formatter.set_scientific(True)\n",
    "p.colorbar.ax.yaxis.set_offset_position('left')\n",
    "p.colorbar.ax.yaxis.labelpad = 20\n",
    "p.colorbar.ax.yaxis.set_tick_params(width=1)\n",
    "p.colorbar.update_ticks()\n",
    "\n",
    "# Export\n",
    "plt.savefig(\"{folder_plots}/france_global_NO2.{format}\".format(\n",
    "                folder_plots=folder_plots, format=FORMAT_EXPORT),\n",
    "            bbox_inches='tight', dpi=300)"
   ]
  },
  {
   "cell_type": "markdown",
   "metadata": {},
   "source": [
    "### Création des cartes régionales annuelles\n",
    "\n",
    "On génère les cartes globales par régions à l'aide du shapefile `regions-20180101.shp`. On commence par charger le shapefile contenant les régions."
   ]
  },
  {
   "cell_type": "code",
   "execution_count": 9,
   "metadata": {},
   "outputs": [
    {
     "data": {
      "text/html": [
       "<div>\n",
       "<style scoped>\n",
       "    .dataframe tbody tr th:only-of-type {\n",
       "        vertical-align: middle;\n",
       "    }\n",
       "\n",
       "    .dataframe tbody tr th {\n",
       "        vertical-align: top;\n",
       "    }\n",
       "\n",
       "    .dataframe thead th {\n",
       "        text-align: right;\n",
       "    }\n",
       "</style>\n",
       "<table border=\"1\" class=\"dataframe\">\n",
       "  <thead>\n",
       "    <tr style=\"text-align: right;\">\n",
       "      <th></th>\n",
       "      <th>code_insee</th>\n",
       "      <th>nom</th>\n",
       "      <th>nuts2</th>\n",
       "      <th>surf_km2</th>\n",
       "      <th>wikipedia</th>\n",
       "    </tr>\n",
       "  </thead>\n",
       "  <tbody>\n",
       "    <tr>\n",
       "      <th>0</th>\n",
       "      <td>04</td>\n",
       "      <td>La Réunion</td>\n",
       "      <td>FR94</td>\n",
       "      <td>2505.0</td>\n",
       "      <td>fr:La Réunion</td>\n",
       "    </tr>\n",
       "    <tr>\n",
       "      <th>1</th>\n",
       "      <td>94</td>\n",
       "      <td>Corse</td>\n",
       "      <td>FR83</td>\n",
       "      <td>8722.0</td>\n",
       "      <td>fr:Corse</td>\n",
       "    </tr>\n",
       "    <tr>\n",
       "      <th>2</th>\n",
       "      <td>02</td>\n",
       "      <td>Martinique</td>\n",
       "      <td>FR92</td>\n",
       "      <td>1089.0</td>\n",
       "      <td>fr:Martinique</td>\n",
       "    </tr>\n",
       "    <tr>\n",
       "      <th>3</th>\n",
       "      <td>11</td>\n",
       "      <td>Île-de-France</td>\n",
       "      <td>FR10</td>\n",
       "      <td>12069.0</td>\n",
       "      <td>fr:Île-de-France</td>\n",
       "    </tr>\n",
       "    <tr>\n",
       "      <th>4</th>\n",
       "      <td>32</td>\n",
       "      <td>Hauts-de-France</td>\n",
       "      <td>FR22</td>\n",
       "      <td>31935.0</td>\n",
       "      <td>fr:Nord-Pas-de-Calais-Picardie</td>\n",
       "    </tr>\n",
       "    <tr>\n",
       "      <th>5</th>\n",
       "      <td>75</td>\n",
       "      <td>Nouvelle-Aquitaine</td>\n",
       "      <td>FR61</td>\n",
       "      <td>84747.0</td>\n",
       "      <td>fr:Nouvelle-Aquitaine</td>\n",
       "    </tr>\n",
       "    <tr>\n",
       "      <th>6</th>\n",
       "      <td>28</td>\n",
       "      <td>Normandie</td>\n",
       "      <td>FR25</td>\n",
       "      <td>30139.0</td>\n",
       "      <td>fr:Région Normandie</td>\n",
       "    </tr>\n",
       "    <tr>\n",
       "      <th>7</th>\n",
       "      <td>01</td>\n",
       "      <td>Guadeloupe</td>\n",
       "      <td>FR91</td>\n",
       "      <td>1634.0</td>\n",
       "      <td>fr:Guadeloupe</td>\n",
       "    </tr>\n",
       "    <tr>\n",
       "      <th>8</th>\n",
       "      <td>52</td>\n",
       "      <td>Pays de la Loire</td>\n",
       "      <td>FR51</td>\n",
       "      <td>32430.0</td>\n",
       "      <td>fr:Pays de la Loire</td>\n",
       "    </tr>\n",
       "    <tr>\n",
       "      <th>9</th>\n",
       "      <td>24</td>\n",
       "      <td>Centre-Val de Loire</td>\n",
       "      <td>FR24</td>\n",
       "      <td>39530.0</td>\n",
       "      <td>fr:Région Centre</td>\n",
       "    </tr>\n",
       "    <tr>\n",
       "      <th>10</th>\n",
       "      <td>44</td>\n",
       "      <td>Grand Est</td>\n",
       "      <td>FR21</td>\n",
       "      <td>57725.0</td>\n",
       "      <td>fr:Grand Est</td>\n",
       "    </tr>\n",
       "    <tr>\n",
       "      <th>11</th>\n",
       "      <td>03</td>\n",
       "      <td>Guyane</td>\n",
       "      <td>FR93</td>\n",
       "      <td>83543.0</td>\n",
       "      <td>fr:Guyane</td>\n",
       "    </tr>\n",
       "    <tr>\n",
       "      <th>12</th>\n",
       "      <td>93</td>\n",
       "      <td>Provence-Alpes-Côte d'Azur</td>\n",
       "      <td>FR82</td>\n",
       "      <td>31840.0</td>\n",
       "      <td>fr:Provence-Alpes-Côte d'Azur</td>\n",
       "    </tr>\n",
       "    <tr>\n",
       "      <th>13</th>\n",
       "      <td>06</td>\n",
       "      <td>Mayotte</td>\n",
       "      <td>None</td>\n",
       "      <td>366.0</td>\n",
       "      <td>fr:Mayotte</td>\n",
       "    </tr>\n",
       "    <tr>\n",
       "      <th>14</th>\n",
       "      <td>53</td>\n",
       "      <td>Bretagne</td>\n",
       "      <td>FR52</td>\n",
       "      <td>27498.0</td>\n",
       "      <td>fr:Région Bretagne</td>\n",
       "    </tr>\n",
       "    <tr>\n",
       "      <th>15</th>\n",
       "      <td>27</td>\n",
       "      <td>Bourgogne-Franche-Comté</td>\n",
       "      <td>FR26</td>\n",
       "      <td>48059.0</td>\n",
       "      <td>fr:Bourgogne-Franche-Comté</td>\n",
       "    </tr>\n",
       "    <tr>\n",
       "      <th>16</th>\n",
       "      <td>76</td>\n",
       "      <td>Occitanie</td>\n",
       "      <td>FR62</td>\n",
       "      <td>73366.0</td>\n",
       "      <td>fr:Région Occitanie</td>\n",
       "    </tr>\n",
       "    <tr>\n",
       "      <th>17</th>\n",
       "      <td>84</td>\n",
       "      <td>Auvergne-Rhône-Alpes</td>\n",
       "      <td>FR71</td>\n",
       "      <td>71134.0</td>\n",
       "      <td>fr:Auvergne-Rhône-Alpes</td>\n",
       "    </tr>\n",
       "  </tbody>\n",
       "</table>\n",
       "</div>"
      ],
      "text/plain": [
       "   code_insee                         nom nuts2  surf_km2  \\\n",
       "0          04                  La Réunion  FR94    2505.0   \n",
       "1          94                       Corse  FR83    8722.0   \n",
       "2          02                  Martinique  FR92    1089.0   \n",
       "3          11               Île-de-France  FR10   12069.0   \n",
       "4          32             Hauts-de-France  FR22   31935.0   \n",
       "5          75          Nouvelle-Aquitaine  FR61   84747.0   \n",
       "6          28                   Normandie  FR25   30139.0   \n",
       "7          01                  Guadeloupe  FR91    1634.0   \n",
       "8          52            Pays de la Loire  FR51   32430.0   \n",
       "9          24         Centre-Val de Loire  FR24   39530.0   \n",
       "10         44                   Grand Est  FR21   57725.0   \n",
       "11         03                      Guyane  FR93   83543.0   \n",
       "12         93  Provence-Alpes-Côte d'Azur  FR82   31840.0   \n",
       "13         06                     Mayotte  None     366.0   \n",
       "14         53                    Bretagne  FR52   27498.0   \n",
       "15         27     Bourgogne-Franche-Comté  FR26   48059.0   \n",
       "16         76                   Occitanie  FR62   73366.0   \n",
       "17         84        Auvergne-Rhône-Alpes  FR71   71134.0   \n",
       "\n",
       "                         wikipedia  \n",
       "0                    fr:La Réunion  \n",
       "1                         fr:Corse  \n",
       "2                    fr:Martinique  \n",
       "3                 fr:Île-de-France  \n",
       "4   fr:Nord-Pas-de-Calais-Picardie  \n",
       "5            fr:Nouvelle-Aquitaine  \n",
       "6              fr:Région Normandie  \n",
       "7                    fr:Guadeloupe  \n",
       "8              fr:Pays de la Loire  \n",
       "9                 fr:Région Centre  \n",
       "10                    fr:Grand Est  \n",
       "11                       fr:Guyane  \n",
       "12   fr:Provence-Alpes-Côte d'Azur  \n",
       "13                      fr:Mayotte  \n",
       "14              fr:Région Bretagne  \n",
       "15      fr:Bourgogne-Franche-Comté  \n",
       "16             fr:Région Occitanie  \n",
       "17         fr:Auvergne-Rhône-Alpes  "
      ]
     },
     "execution_count": 9,
     "metadata": {},
     "output_type": "execute_result"
    }
   ],
   "source": [
    "import cartopy.io.shapereader as shpreader\n",
    "import shapely.vectorized\n",
    "\n",
    "reader = shpreader.Reader('R:/AirPollution/data/regions-20180101.shp')\n",
    "records = list(reader.records())\n",
    "\n",
    "pd.DataFrame([entry.attributes for entry in records])"
   ]
  },
  {
   "cell_type": "markdown",
   "metadata": {},
   "source": [
    "Pour avoir tous les graphiques avec la même légende, on garde en mémoire les valeurs min et max de la légende."
   ]
  },
  {
   "cell_type": "code",
   "execution_count": 10,
   "metadata": {},
   "outputs": [],
   "source": [
    "values = DS.mean(dim='time')[VARIABLE].values\n",
    "val_min = np.nanmin(values)\n",
    "val_max = np.nanmax(values)"
   ]
  },
  {
   "cell_type": "markdown",
   "metadata": {},
   "source": [
    "On itère ensuite sur le shapefile pour générer une carte de la pollution annuelle par région."
   ]
  },
  {
   "cell_type": "code",
   "execution_count": null,
   "metadata": {
    "scrolled": true
   },
   "outputs": [
    {
     "name": "stdout",
     "output_type": "stream",
     "text": [
      "La Réunion does not intersect AOI\n",
      "Processing Corse\n",
      "Martinique does not intersect AOI\n",
      "Processing Île-de-France\n"
     ]
    }
   ],
   "source": [
    "FIGSIZE = 1.8\n",
    "NROWS = 5\n",
    "NCOLS = 3\n",
    "dx, dy = 0.4, 0.4\n",
    "\n",
    "SCALEBAR_LENGTH = 50000\n",
    "NAME_ATTR = 'nom'\n",
    "\n",
    "points = list(product(DS.latitude.values, DS.longitude.values))\n",
    "x = [i for j, i in points]\n",
    "y = [j for j, i in points]\n",
    "\n",
    "fig, axes = plt.subplots(\n",
    "    figsize=FIGSIZE * plt.figaspect(float(dy * NROWS) / float(dx * NCOLS)),\n",
    "    nrows=NROWS, ncols=NCOLS, subplot_kw={'projection': PROJECTION}\n",
    ")\n",
    "\n",
    "for ax in axes.flat:\n",
    "    ax.outline_patch.set_edgecolor('white')\n",
    "    ax.set(aspect=1, adjustable='datalim')\n",
    "\n",
    "index_ax = 0\n",
    "for index, region in enumerate(records):\n",
    "    ax = axes.flat[index_ax]\n",
    "    mask = shapely.vectorized.contains(region.geometry, x, y).reshape(\n",
    "        (DS.latitude.shape[0], DS.longitude.shape[0]))\n",
    "    if np.any(mask):\n",
    "        print(\"Processing {region}\".format(region=region.attributes[NAME_ATTR]))\n",
    "        mask_array = xr.DataArray(mask, dims=('latitude', 'longitude'),\n",
    "                                      coords={'longitude': DS.longitude, 'latitude': DS.latitude})\n",
    "        masked_data = DS.mean(dim='time').where(mask_array, drop=True)\n",
    "        im = ax.pcolormesh(masked_data.longitude, masked_data.latitude, masked_data[VARIABLE],\n",
    "                           transform=ccrs.PlateCarree(),\n",
    "                           norm=colors.LogNorm(),\n",
    "                           vmin=val_min, vmax=val_max,\n",
    "                           cmap=COLOR_PALETTE)\n",
    "        \n",
    "        # Add scale bar\n",
    "        scalebar = AnchoredSizeBar(ax.transData,\n",
    "                       SCALEBAR_LENGTH, \n",
    "                       '{length} {unit}'.format(length=int(SCALEBAR_LENGTH/NUMBER_METERS_PER_UNIT), \n",
    "                                                unit=SCALEBAR_UNIT),\n",
    "                       SCALEBAR_LOCATION, \n",
    "                       pad=-0.6,\n",
    "                       sep=SCALEBAR_SEP,\n",
    "                       color='black',\n",
    "                       label_top=True,\n",
    "                       borderpad=-0.6,\n",
    "                       fontproperties=fm.FontProperties(size=7),\n",
    "                       frameon=False)\n",
    "        ax.add_artist(scalebar)\n",
    "\n",
    "        ax.title.set_text(region.attributes[NAME_ATTR])\n",
    "        ax.set_extent([masked_data.longitude.min(), masked_data.longitude.max(), \n",
    "                      masked_data.latitude.min(), masked_data.latitude.max()], ccrs.Geodetic())\n",
    "        index_ax = index_ax + 1\n",
    "    else:\n",
    "        print(\"{region} does not intersect AOI\".format(region=region.attributes[NAME_ATTR]))\n",
    "\n",
    "# Color bar\n",
    "colorbar = fig.colorbar(im, ax=axes.ravel().tolist(), aspect=40)\n",
    "colorbar.locator = mticker.AutoLocator()\n",
    "colorbar.formatter = mticker.ScalarFormatter(useMathText=True, useOffset=True)\n",
    "colorbar.formatter.set_scientific(True)\n",
    "colorbar.ax.yaxis.set_offset_position('left')\n",
    "colorbar.ax.yaxis.labelpad = 20\n",
    "colorbar.ax.yaxis.set_tick_params(width=1)\n",
    "colorbar.set_label(LABEL)\n",
    "colorbar.update_ticks()\n",
    "\n",
    "plt.savefig(\"{folder_plots}/regions_global_NO2.{format}\".format(folder_plots=folder_plots,\n",
    "                                                                format=FORMAT_EXPORT),\n",
    "           bbox_inches='tight', dpi=300)\n",
    "plt.show()"
   ]
  },
  {
   "cell_type": "markdown",
   "metadata": {},
   "source": [
    "### Boxplot par mois-année\n",
    "\n",
    "On *downsample* les données en les rééchantillonant par mois pour tracer le boxplot."
   ]
  },
  {
   "cell_type": "code",
   "execution_count": 12,
   "metadata": {},
   "outputs": [],
   "source": [
    "boxes_months = [group[VARIABLE].values for _,group in DS.mean(dim='longitude').mean(dim='latitude').resample({'time': '1MS'})]"
   ]
  },
  {
   "cell_type": "code",
   "execution_count": 14,
   "metadata": {},
   "outputs": [
    {
     "ename": "AttributeError",
     "evalue": "'DatetimeAccessor' object has no attribute 'strftime'",
     "output_type": "error",
     "traceback": [
      "\u001b[1;31m---------------------------------------------------------------------------\u001b[0m",
      "\u001b[1;31mAttributeError\u001b[0m                            Traceback (most recent call last)",
      "\u001b[1;32m<ipython-input-14-dad7b227defe>\u001b[0m in \u001b[0;36m<module>\u001b[1;34m\u001b[0m\n\u001b[0;32m      6\u001b[0m boxplot = sns.boxplot(data=boxes_months, palette=sns.color_palette(\"Blues_d\"),\n\u001b[0;32m      7\u001b[0m                       linewidth=0.5, fliersize=2, width=0.5, saturation=0.5)\n\u001b[1;32m----> 8\u001b[1;33m \u001b[0mboxplot\u001b[0m\u001b[1;33m.\u001b[0m\u001b[0mset_xticklabels\u001b[0m\u001b[1;33m(\u001b[0m\u001b[0mDS\u001b[0m\u001b[1;33m.\u001b[0m\u001b[0mmean\u001b[0m\u001b[1;33m(\u001b[0m\u001b[0mdim\u001b[0m\u001b[1;33m=\u001b[0m\u001b[1;34m'longitude'\u001b[0m\u001b[1;33m)\u001b[0m\u001b[1;33m.\u001b[0m\u001b[0mmean\u001b[0m\u001b[1;33m(\u001b[0m\u001b[0mdim\u001b[0m\u001b[1;33m=\u001b[0m\u001b[1;34m'latitude'\u001b[0m\u001b[1;33m)\u001b[0m\u001b[1;33m.\u001b[0m\u001b[0mresample\u001b[0m\u001b[1;33m(\u001b[0m\u001b[1;33m{\u001b[0m\u001b[1;34m'time'\u001b[0m\u001b[1;33m:\u001b[0m \u001b[1;34m'1MS'\u001b[0m\u001b[1;33m}\u001b[0m\u001b[1;33m)\u001b[0m\u001b[1;33m.\u001b[0m\u001b[0mmean\u001b[0m\u001b[1;33m(\u001b[0m\u001b[1;34m'time'\u001b[0m\u001b[1;33m)\u001b[0m\u001b[1;33m.\u001b[0m\u001b[0mtime\u001b[0m\u001b[1;33m.\u001b[0m\u001b[0mdt\u001b[0m\u001b[1;33m.\u001b[0m\u001b[0mstrftime\u001b[0m\u001b[1;33m(\u001b[0m\u001b[1;34m'%b %Y'\u001b[0m\u001b[1;33m)\u001b[0m\u001b[1;33m.\u001b[0m\u001b[0mvalues\u001b[0m\u001b[1;33m,\u001b[0m \u001b[0mrotation\u001b[0m\u001b[1;33m=\u001b[0m\u001b[1;36m30\u001b[0m\u001b[1;33m)\u001b[0m\u001b[1;33m\u001b[0m\u001b[1;33m\u001b[0m\u001b[0m\n\u001b[0m\u001b[0;32m      9\u001b[0m \u001b[0mplt\u001b[0m\u001b[1;33m.\u001b[0m\u001b[0mylabel\u001b[0m\u001b[1;33m(\u001b[0m\u001b[0mLABEL\u001b[0m\u001b[1;33m,\u001b[0m \u001b[0mlabelpad\u001b[0m\u001b[1;33m=\u001b[0m\u001b[1;36m10\u001b[0m\u001b[1;33m)\u001b[0m\u001b[1;33m\u001b[0m\u001b[1;33m\u001b[0m\u001b[0m\n\u001b[0;32m     10\u001b[0m \u001b[1;33m\u001b[0m\u001b[0m\n",
      "\u001b[1;31mAttributeError\u001b[0m: 'DatetimeAccessor' object has no attribute 'strftime'"
     ]
    },
    {
     "data": {
      "image/png": "[encoded data removed]",
      "text/plain": [
       "<Figure size 432x144 with 1 Axes>"
      ]
     },
     "metadata": {
      "needs_background": "light"
     },
     "output_type": "display_data"
    }
   ],
   "source": [
    "fig = plt.figure(figsize=(6,2))\n",
    "ax = plt.axes()\n",
    "\n",
    "ax.yaxis.set_major_formatter(mticker.ScalarFormatter(useMathText=True, useOffset=True))\n",
    "\n",
    "boxplot = sns.boxplot(data=boxes_months, palette=sns.color_palette(\"Blues_d\"),\n",
    "                      linewidth=0.5, fliersize=2, width=0.5, saturation=0.5)\n",
    "boxplot.set_xticklabels(DS.mean(dim='longitude').mean(dim='latitude').resample({'time': '1MS'}).mean('time').time.dt.strftime('%b %Y').values, rotation=30)\n",
    "plt.ylabel(LABEL, labelpad=10)\n",
    "\n",
    "plt.savefig(\"{folder_plots}/box_plot_NO2.{format}\".format(folder_plots=folder_plots,\n",
    "                                                        format=FORMAT_EXPORT), \n",
    "            bbox_inches='tight', dpi=300)"
   ]
  },
  {
   "cell_type": "markdown",
   "metadata": {},
   "source": [
    "### Boxplot par semaine\n",
    "\n",
    "Pour observer la distribution hebdomadaire."
   ]
  },
  {
   "cell_type": "code",
   "execution_count": null,
   "metadata": {},
   "outputs": [],
   "source": [
    "# Monday=0, Sunday=6\n",
    "boxes_weekday = [group[VARIABLE].values for _,group in DS.mean(dim='longitude').mean(dim='latitude').groupby('time.weekday')]"
   ]
  },
  {
   "cell_type": "code",
   "execution_count": null,
   "metadata": {},
   "outputs": [],
   "source": [
    "WEEKDAYS_LABEL = ['Mon', 'Tue', 'Wed', 'Thu', 'Fri', 'Sat', 'Sun']\n",
    "\n",
    "fig = plt.figure(figsize=(6,2))\n",
    "ax = plt.axes()\n",
    "ax.yaxis.set_major_formatter(mticker.ScalarFormatter(useMathText=True, useOffset=True))\n",
    "\n",
    "boxplot = sns.boxplot(data=boxes_weekday, palette=sns.color_palette(\"Blues_d\"), \n",
    "                      linewidth=0.5, fliersize=2, width=0.5, saturation=0.5)\n",
    "boxplot.set_xticklabels(WEEKDAYS_LABEL)\n",
    "plt.ylabel(LABEL, labelpad=10)\n",
    "\n",
    "plt.savefig(\"{folder_plots}/box_plot_weekdays_NO2.{format}\".format(folder_plots=folder_plots,\n",
    "                                                                 format=FORMAT_EXPORT),\n",
    "            bbox_inches='tight', dpi=300)"
   ]
  },
  {
   "cell_type": "markdown",
   "metadata": {},
   "source": [
    "On observe que les week-ends sont moins pollués que le reste de la semaine. Les différences ne sont peut-être pas suffisament significatives pour tracer des cartes par jour de la semaine."
   ]
  },
  {
   "cell_type": "markdown",
   "metadata": {},
   "source": [
    "### Cartes par mois\n",
    "\n",
    "On trace une carte nationale par mois pour observer les modifications de distribution. On commence par grouper les données par mois et on moyenne chaque bin."
   ]
  },
  {
   "cell_type": "code",
   "execution_count": null,
   "metadata": {},
   "outputs": [],
   "source": [
    "DS_month = DS.resample({'time': '1MS'}).mean(dim='time')"
   ]
  },
  {
   "cell_type": "markdown",
   "metadata": {},
   "source": [
    "Pour avoir une légende cohérente, il faut garder en mémoire les valeurs min et max atteintes lorsque l'on groupe les données par mois."
   ]
  },
  {
   "cell_type": "code",
   "execution_count": null,
   "metadata": {},
   "outputs": [],
   "source": [
    "nat_avg_by_month_max = DS_month[VARIABLE].max(dim='longitude').max(dim='latitude')\n",
    "nat_avg_by_month_min = DS_month[VARIABLE].min(dim='longitude').min(dim='latitude')\n",
    "\n",
    "val_min = np.nanmin(nat_avg_by_month_min)\n",
    "val_max = np.nanmax(nat_avg_by_month_max)"
   ]
  },
  {
   "cell_type": "code",
   "execution_count": null,
   "metadata": {},
   "outputs": [],
   "source": [
    "FIGSIZE = 1.8\n",
    "NROWS = 5\n",
    "NCOLS = 3\n",
    "dx, dy = 0.4, 0.3\n",
    "\n",
    "fig, axes = plt.subplots(\n",
    "    figsize=FIGSIZE * plt.figaspect(float(dy * NROWS) / float(dx * NCOLS)),\n",
    "    nrows=NROWS, ncols=NCOLS, subplot_kw={'projection': PROJECTION}\n",
    ")\n",
    "\n",
    "for ax in axes.flat:\n",
    "    ax.outline_patch.set_edgecolor('white')\n",
    "    ax.set(aspect=1, adjustable='datalim')\n",
    "\n",
    "index_ax = 0\n",
    "for index, time in enumerate(DS_month.time):\n",
    "    print('Processing {month}'.format(month=time.dt.strftime('%b %Y').values))\n",
    "    ax = axes.flat[index_ax]\n",
    "    data = DS_month.isel(time=index)\n",
    "    im = ax.pcolormesh(data.longitude, data.latitude, data[VARIABLE],\n",
    "                       transform=ccrs.PlateCarree(),\n",
    "                       norm=colors.LogNorm(),\n",
    "                       vmin=val_min, vmax=val_max,\n",
    "                       cmap=COLOR_PALETTE)\n",
    "\n",
    "    ax.set_title(data.time.dt.strftime('%b %Y').values)\n",
    "    ax.set_extent([data.longitude.min(), data.longitude.max(), \n",
    "                  data.latitude.min(), data.latitude.max()], ccrs.Geodetic())\n",
    "    index_ax = index_ax + 1\n",
    "\n",
    "# Color bar\n",
    "colorbar = fig.colorbar(im, ax=axes.ravel().tolist(), aspect=40)\n",
    "colorbar.locator = mticker.AutoLocator()\n",
    "colorbar.formatter = mticker.ScalarFormatter(useMathText=True, useOffset=True)\n",
    "colorbar.formatter.set_scientific(True)\n",
    "colorbar.ax.yaxis.set_offset_position('left')\n",
    "colorbar.ax.yaxis.labelpad = 20\n",
    "colorbar.ax.yaxis.set_tick_params(width=1)\n",
    "colorbar.set_label(LABEL)\n",
    "colorbar.update_ticks()\n",
    "\n",
    "\n",
    "\n",
    "plt.savefig(\"{folder_plots}/france_month_global_NO2.{format}\".format(folder_plots=folder_plots,\n",
    "                                                                     format=FORMAT_EXPORT),\n",
    "            bbox_inches='tight', dpi=300)\n",
    "plt.show()"
   ]
  },
  {
   "cell_type": "markdown",
   "metadata": {},
   "source": [
    "### Carte avec des points d'intérêts"
   ]
  },
  {
   "cell_type": "code",
   "execution_count": null,
   "metadata": {},
   "outputs": [],
   "source": [
    "lon_points = [4.8357, 2.3212992, 7.7337068, 2.8838373]\n",
    "lat_points = [45.7640, 51.0244429, 48.6716962, 49.3799144]\n",
    "\n",
    "LABEL_POINTS = ['U', 'I', 'R', 'F']"
   ]
  },
  {
   "cell_type": "code",
   "execution_count": null,
   "metadata": {},
   "outputs": [],
   "source": [
    "FIGSIZE = 4\n",
    "\n",
    "# Moyenne temporelle\n",
    "data = DS.mean(dim='time')\n",
    "\n",
    "# Création du canevas\n",
    "fig = plt.figure(figsize=(FIGSIZE*data.dims['longitude'] / data.dims['latitude'], FIGSIZE))\n",
    "ax = plt.axes(projection=PROJECTION)\n",
    "ax.outline_patch.set_edgecolor('white')\n",
    "\n",
    "# Ajout du pcolormesh\n",
    "p = data[VARIABLE].plot(\n",
    "        ax=ax,\n",
    "        transform=ccrs.PlateCarree(),\n",
    "        cmap=COLOR_PALETTE,\n",
    "        norm=colors.LogNorm()\n",
    "    )\n",
    "s = sns.scatterplot(lon_points, lat_points, transform=ccrs.PlateCarree(),\n",
    "               color=\".2\", s=10, linewidth=0.5)\n",
    "\n",
    "# Add scale bar\n",
    "scalebar = AnchoredSizeBar(ax.transData,\n",
    "                           SCALEBAR_LENGTH, \n",
    "                           '{length} {unit}'.format(length=int(SCALEBAR_LENGTH/NUMBER_METERS_PER_UNIT), \n",
    "                                                    unit=SCALEBAR_UNIT),\n",
    "                           SCALEBAR_LOCATION, \n",
    "                           pad=0.1,\n",
    "                           fontproperties=fm.FontProperties(size=7),\n",
    "                           sep=SCALEBAR_SEP,\n",
    "                           color='black',\n",
    "                           label_top=True,\n",
    "                           frameon=False)\n",
    "ax.add_artist(scalebar)\n",
    "\n",
    "# Re-fit axis extent \n",
    "ax.set_extent([data.longitude.min(), data.longitude.max(), data.latitude.min(), data.latitude.max()],\n",
    "              ccrs.Geodetic())\n",
    "\n",
    "# Color bar\n",
    "p.colorbar.locator = mticker.AutoLocator()\n",
    "p.colorbar.formatter = mticker.ScalarFormatter(useMathText=True, useOffset=True)\n",
    "p.colorbar.formatter.set_scientific(True)\n",
    "p.colorbar.ax.yaxis.set_offset_position('left')\n",
    "p.colorbar.ax.yaxis.labelpad = 20\n",
    "p.colorbar.ax.yaxis.set_tick_params(width=1)\n",
    "p.colorbar.update_ticks()\n",
    "\n",
    "# Export\n",
    "plt.savefig(\"{folder_plots}/dotted_france_global_NO2.{format}\".format(folder_plots=folder_plots, format=FORMAT_EXPORT),\n",
    "            bbox_inches='tight', dpi=300)"
   ]
  },
  {
   "cell_type": "markdown",
   "metadata": {},
   "source": [
    "### Evolution par points\n",
    "\n",
    "On downsample temporellement pour chaque mois."
   ]
  },
  {
   "cell_type": "code",
   "execution_count": null,
   "metadata": {},
   "outputs": [],
   "source": [
    "fig = plt.figure(figsize=(10,4))\n",
    "ax = plt.axes()\n",
    "\n",
    "# format the ticks\n",
    "ax.xaxis.set_major_locator(mdates.MonthLocator())\n",
    "ax.xaxis.set_major_formatter(mdates.DateFormatter('%b %Y'))\n",
    "ax.xaxis.set_minor_locator(mdates.DayLocator())\n",
    "ax.yaxis.set_major_formatter(mticker.ScalarFormatter(useMathText=True, useOffset=True))\n",
    "\n",
    "for index,(lon, lat) in enumerate(zip(lon_points, lat_points)):\n",
    "\n",
    "    DS.resample({'time': '1MS'}).mean(dim='time')[VARIABLE].sel(latitude=lat, longitude=lon, method='nearest').plot(\n",
    "        label=LABEL_POINTS[index], ax=ax, linewidth=1)\n",
    "\n",
    "# Change le style pour impression-friendly\n",
    "for l, ms in zip(ax.lines, cycle('ox+>^*')):\n",
    "    l.set_marker(ms)\n",
    "\n",
    "plt.xlabel('')\n",
    "plt.ylabel(LABEL)\n",
    "plt.title('')\n",
    "    \n",
    "plt.legend()\n",
    "plt.xticks(rotation=30)\n",
    "\n",
    "plt.savefig(\"{folder_plots}/evol_points_interet_NO2.{format}\".format(folder_plots=folder_plots, format=FORMAT_EXPORT),\n",
    "            bbox_inches='tight', dpi=300)"
   ]
  },
  {
   "cell_type": "code",
   "execution_count": null,
   "metadata": {},
   "outputs": [],
   "source": []
  }
 ],
 "metadata": {
  "kernelspec": {
   "display_name": "Python 3",
   "language": "python",
   "name": "python3"
  },
  "language_info": {
   "codemirror_mode": {
    "name": "ipython",
    "version": 3
   },
   "file_extension": ".py",
   "mimetype": "text/x-python",
   "name": "python",
   "nbconvert_exporter": "python",
   "pygments_lexer": "ipython3",
   "version": "3.7.3"
  }
 },
 "nbformat": 4,
 "nbformat_minor": 2
}
